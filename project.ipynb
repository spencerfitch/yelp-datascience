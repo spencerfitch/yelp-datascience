{
 "cells": [
  {
   "cell_type": "markdown",
   "id": "06703110-6b4a-4e2d-8a8c-c49dc5798b57",
   "metadata": {},
   "source": [
    "# CS396 Data Science: Project\n",
    "\n",
    "### Project Overview\n",
    "This project aims to understand any underlying biases or trends on Yelp by answering the following questions:\n",
    "1. Is there a correlation between a user's activity/popularity and their review score distribution?\n",
    "2. Do Yelp users have similar behaviors to their friends on the platform?\n",
    "3. Is there a correlation between review score and whether it was made during the business' operating hours?\n",
    "4. Is there a correlation between number of reviews on a business and its score distribution?\n",
    "\n",
    "### Data Used\n",
    "All of these questions were answered using various data sources included in the Yelp Open Dataset. The specific files used for each question are listed below:\n",
    "1. user.json, checkin.json, review.json\n",
    "2. user.json, checkin.json, review.json\n",
    "3. business.json, review.json\n",
    "4. business.json, review.json"
   ]
  },
  {
   "cell_type": "markdown",
   "id": "90ada3a7-6c34-4421-a123-02805800e1c6",
   "metadata": {},
   "source": [
    "## Data Cleaning"
   ]
  },
  {
   "cell_type": "code",
   "execution_count": null,
   "id": "dc9c0343-e6f0-4d66-ac8a-61eb600e27e0",
   "metadata": {},
   "outputs": [],
   "source": []
  }
 ],
 "metadata": {
  "kernelspec": {
   "display_name": "Python 3",
   "language": "python",
   "name": "python3"
  },
  "language_info": {
   "codemirror_mode": {
    "name": "ipython",
    "version": 3
   },
   "file_extension": ".py",
   "mimetype": "text/x-python",
   "name": "python",
   "nbconvert_exporter": "python",
   "pygments_lexer": "ipython3",
   "version": "3.8.10"
  }
 },
 "nbformat": 4,
 "nbformat_minor": 5
}
