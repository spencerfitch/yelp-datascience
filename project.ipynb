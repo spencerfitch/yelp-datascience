{
 "cells": [
  {
   "cell_type": "markdown",
   "id": "06703110-6b4a-4e2d-8a8c-c49dc5798b57",
   "metadata": {},
   "source": [
    "# CS396 Data Science Project\n",
    "\n",
    "### Project Overview\n",
    "This project aims to understand any underlying biases or trends on Yelp by answering the following questions:\n",
    "1. Is there a correlation between a user's activity and their average review star rating?\n",
    "2. Can a review's text be used to caluclate its star rating?\n",
    "3. Does whether a review was made during business hours correlate with its star rating?\n",
    "4. Is there a relationship between a business' number of reviews and its star rating?\n",
    "\n",
    "### Data Used\n",
    "All of these questions were answered using various data sources included in the Yelp Open Dataset. The specific files used for each question are listed below:\n",
    "1. user.json\n",
    "2. review.json\n",
    "3. review.json, business.json\n",
    "4. business.json"
   ]
  },
  {
   "cell_type": "markdown",
   "id": "297cd5f4-b92d-4396-ac87-ca06004c8fc6",
   "metadata": {},
   "source": [
    "## Environment Setup and Utility Functions"
   ]
  },
  {
   "cell_type": "code",
   "execution_count": 356,
   "id": "dc9c0343-e6f0-4d66-ac8a-61eb600e27e0",
   "metadata": {},
   "outputs": [],
   "source": [
    "DATA_PATH = '../../yelp_dataset/'\n",
    "\n",
    "\n",
    "from datetime import datetime\n",
    "import json\n",
    "import matplotlib.pyplot as plt\n",
    "import numpy as np\n",
    "import pandas as pd\n",
    "from typing import List, Tuple\n",
    "\n",
    "\n",
    "def load_data(name: str) -> object:\n",
    "    \"\"\"Load Yelp data file.\n",
    "    Currently only JSON and pickle file format supported\n",
    "    \n",
    "    Args:\n",
    "        name (str):\n",
    "            name of the file within the DATA_PATH directory\n",
    "    Returns:\n",
    "        Resulting DataFrame loaded from specified file    \n",
    "    \"\"\"\n",
    "    f_type = name.split('.')[-1]\n",
    "    \n",
    "    if f_type == 'json': \n",
    "        return pd.DataFrame.from_records([json.loads(l) for l in open(DATA_PATH+path, encoding='utf-8')])\n",
    "    elif f_type in ['pickle', 'pkl']:\n",
    "        return pd.read_pickle(DATA_PATH+name)\n",
    "    else:\n",
    "        raise ValueError('Unsupported file type provided \"{0}\"'.format(f_type))\n",
    "        \n",
    "\n",
    "def save_data(df: object, name: str) -> None:\n",
    "    \"\"\"Save pd.DataFrame to specified file\n",
    "    Currently only JSON and pickle file format supported\n",
    "    \n",
    "    Args:\n",
    "        df (pd.DataFrame):\n",
    "            pandas DataFrame object to save\n",
    "        name (str)\n",
    "            name of the file to save the DataFrame to\n",
    "    Returns:\n",
    "        None\n",
    "    \"\"\"\n",
    "    f_type = name.split('.')[-1]\n",
    "    \n",
    "    if f_type == 'json':\n",
    "        with open(DATA_PATH+name, 'w', encoding='utf-8') as out:\n",
    "            for i, r in df.iterrows():\n",
    "                print(r.to_json(), file=out)\n",
    "        return\n",
    "    elif f_type in ['pickle', 'pkl']:\n",
    "        df.to_pickle(DATA_PATH+name)\n",
    "        print('Data saved to {0}'.format(DATA_PATH+name))\n",
    "        return\n",
    "    else:\n",
    "        raise ValueError('Unsupported file type provied \"{0}\"'.format(f_type))\n",
    " \n",
    "\n",
    "def drop_null(df: object, subset: List[str] = None) -> Tuple[object, float, float]:\n",
    "    \"\"\" Revmoe null entries from DataFrame\n",
    "    \n",
    "    Args:\n",
    "        df (pd.DataFrame):\n",
    "            pandas DataFrame object to remove null entries from\n",
    "        subset (List[str]):\n",
    "            optional subset of columns to drop null entires from\n",
    "    Returns:\n",
    "        A tuple of\n",
    "            pd.DataFrame - resulting cleaned dataframe\n",
    "            float - number of null entries dropped from DataFrame\n",
    "            float - percent of total entries that were dropped from DataFrame\n",
    "    function(pd.DataFrame, List[String]) => pd.DataFrame, Number, Number\n",
    "    \"\"\"\n",
    "    # Remove null data\n",
    "    clean = df.dropna() if not subset else df.dropna(subset=subset)\n",
    "    \n",
    "    # Compute statistics\n",
    "    num_null = len(df) - len(clean)\n",
    "    percent_null = (num_null / len(df)) * 100\n",
    "    \n",
    "    return clean, num_null, percent_null   \n",
    "\n",
    "\n",
    "def in_business_hours(review_time: str, business_hours: dict) -> bool:\n",
    "    \"\"\"Determine if a review time is within a business' operating hours\n",
    "    \n",
    "    Args:\n",
    "        review_time (str):\n",
    "            string formatted review time from the Yelp review entry\n",
    "        business_hours (dict):\n",
    "            dictionary of business hours from the Yelp business entry\n",
    "    Returns:\n",
    "        A boolean indicated whether the review time falls within the business' hours\n",
    "    \"\"\"\n",
    "    weekdays = ['Monday', 'Tuesday', 'Wednesday', 'Thursday', 'Friday', 'Saturday', 'Sunday']\n",
    "    \n",
    "    rev_time = datetime.strptime(review_time, '%Y-%m-%d %H:%M:%S')\n",
    "    rev_dow = weekdays[rev_time.weekday()]\n",
    "\n",
    "    if rev_dow not in business_hours.keys():\n",
    "        return False\n",
    "    \n",
    "    bus_hours = business_hours[rev_dow].split('-')\n",
    "    open_time = datetime.strptime(bus_hours[0], '%H:%M')\n",
    "    clos_time = datetime.strptime(bus_hours[1], '%H:%M')\n",
    "    \n",
    "    return open_time.time() <= rev_time.time() <= clos_time.time()"
   ]
  },
  {
   "cell_type": "markdown",
   "id": "90ada3a7-6c34-4421-a123-02805800e1c6",
   "metadata": {},
   "source": [
    "## Data Cleaning"
   ]
  },
  {
   "cell_type": "markdown",
   "id": "61db8255-445f-4e99-b6c4-fc5324fe5e59",
   "metadata": {},
   "source": [
    "### Convert JSON to Pickle\n",
    "All of the data files that will be used are converted to pickle format for significantly faster load times and performance. This process takes a long time to complete (>20 minutes on my system) and requires significant computational resources (>8 GB RAM usage), but saves time in the long run with significantly decreased loading times for later access. This also slightly increases data density, saving about 1 GB in total across the files transcoded."
   ]
  },
  {
   "cell_type": "code",
   "execution_count": 3,
   "id": "8525ba62-2773-48ae-8a20-66f72c6737b8",
   "metadata": {},
   "outputs": [],
   "source": [
    "'''\n",
    "# Commented out to prevent accidental execution\n",
    "files = ['yelp_academic_dataset_user', 'yelp_academic_dataset_review', 'yelp_academic_dataset_business']\n",
    "for f in files:\n",
    "    df = load_data(f+'.json')\n",
    "    save_data(df, f+'.pickle')\n",
    "'''\n"
   ]
  },
  {
   "cell_type": "markdown",
   "id": "22fed7c5-1309-4911-94b7-fd0ace24b4fb",
   "metadata": {},
   "source": [
    "### General Data Cleaning\n",
    "The cleaning for each dataset is handled by its own clean_{dataset} function. This allows for more precising cleaning to be added in the future in the event that it is needed. For the analysis that will be performed here, there is very little data cleaning that needs to be performed; aside from dropping null values, the user and business datasets need to be checked for duplicate user_id and business\\_id respectively. Upon analyzing the data used here, there were no such duplicates found, so the currently implementation of clean_{dataset} only serves as an alert of duplicate entries. There is no need to resolve any textual errors, such as an incorrect city name, as those will not be analyzed in this project and do not affect the other results. After the initial EDA, it was determined that users with more than 10,000 reviews are extreme outliers from the data and thus are removed in the data cleaning process."
   ]
  },
  {
   "cell_type": "markdown",
   "id": "f59c084a-ab3f-4751-8de2-bf078a50932f",
   "metadata": {},
   "source": [
    "#### User Data Cleaning"
   ]
  },
  {
   "cell_type": "code",
   "execution_count": 359,
   "id": "c194457d-9234-4029-94ba-96e4e7514ce6",
   "metadata": {},
   "outputs": [],
   "source": [
    "def clean_user(df: object) -> object:\n",
    "    \"\"\"Apply cleaning to user dataset formatted DataFrame\n",
    "    \n",
    "    Args:\n",
    "        df (pd.DataFrame):\n",
    "            user DataFrame object to clean\n",
    "    Returns:\n",
    "        cleaned DataFRame object\n",
    "    \"\"\"\n",
    "    print('=== User Data Cleaning Results ===')\n",
    "    \n",
    "    # Clean out entries with null values\n",
    "    clean, num_null, percent_null = drop_null(df)\n",
    "    print('  Null entries dropped:  {0} ({1}%)'.format(num_null, round(percent_null, 2)))\n",
    "    \n",
    "    # Ensure no duplicate user_ids\n",
    "    num_duplicates = len(clean) - len(clean.user_id.unique())\n",
    "    print('  Duplicate user_id:     {0}'.format(num_duplicates))\n",
    "    \n",
    "    # Remove extreme activity outliers\n",
    "    REVIEW_LIMIT = 10000\n",
    "    print('  Outliers removed:      {0}'.format(sum(clean.review_count >= REVIEW_LIMIT)))\n",
    "    clean = clean[clean.review_count < REVIEW_LIMIT]\n",
    "    \n",
    "    return clean"
   ]
  },
  {
   "cell_type": "code",
   "execution_count": 59,
   "id": "5312e069-751f-43a8-b81e-754a6e12a95a",
   "metadata": {},
   "outputs": [
    {
     "name": "stdout",
     "output_type": "stream",
     "text": [
      "=== User Data Cleaning Results ===\n",
      "  Null entries dropped:  0 (0.0%)\n",
      "  Duplicate user_id:     0\n",
      "  Outliers removed:      4\n"
     ]
    }
   ],
   "source": [
    "df = load_data('yelp_academic_dataset_user.pickle')\n",
    "df = clean_user(df)"
   ]
  },
  {
   "cell_type": "markdown",
   "id": "1661ef46-91d4-49ff-a55d-aa5fb8fb7567",
   "metadata": {},
   "source": [
    "#### Business Data Cleaning"
   ]
  },
  {
   "cell_type": "code",
   "execution_count": 358,
   "id": "0a5abcc5-c4b2-466c-9893-c885789cb7ff",
   "metadata": {},
   "outputs": [],
   "source": [
    "def clean_business(df: object) -> object:\n",
    "    \"\"\"Apply cleaning to business dataset formatted DataFrame\n",
    "    \n",
    "    Args:\n",
    "        df (pd.DataFrame):\n",
    "            user DataFrame object to clean\n",
    "    Returns:\n",
    "        cleaned DataFrame object\n",
    "    \"\"\"\n",
    "    print(\"=== Business Data Cleaning Results ===\")\n",
    "    \n",
    "    # Clean out null values\n",
    "    clean, num_null, percent_null = drop_null(df, subset=['stars', 'review_count', 'is_open', 'hours'])\n",
    "    print('  Null entries dropped:   {0} ({1}%)'.format(num_null, round(percent_null, 2)))\n",
    "    \n",
    "    # Ensure no duplicate business_id's\n",
    "    num_duplicates = len(clean) - len(clean.business_id.unique())\n",
    "    print('  Duplicate business_id:  {0}'.format(num_duplicates))\n",
    "    \n",
    "    return clean"
   ]
  },
  {
   "cell_type": "code",
   "execution_count": 22,
   "id": "3fc8e05d-2266-44b1-9357-c0c2a15d2be4",
   "metadata": {},
   "outputs": [
    {
     "name": "stdout",
     "output_type": "stream",
     "text": [
      "=== Business Data Cleaning Results ===\n",
      "  Null entries dropped:   27341 (17.03%)\n",
      "  Duplicate business_id:  0\n"
     ]
    }
   ],
   "source": [
    "df = load_data('yelp_academic_dataset_business.pickle')\n",
    "df = clean_business(df)"
   ]
  },
  {
   "cell_type": "markdown",
   "id": "14a894bd-caff-45b6-bf71-8d6dddf4271d",
   "metadata": {},
   "source": [
    "#### Review Data Cleaning"
   ]
  },
  {
   "cell_type": "code",
   "execution_count": 360,
   "id": "b17c7119-1673-41f4-af5a-a1a1f2a1a0a8",
   "metadata": {},
   "outputs": [],
   "source": [
    "def clean_review(df: object) -> object:\n",
    "    \"\"\"Apply cleaning to review dataset formatted DataFrame\n",
    "    \n",
    "    Args:\n",
    "        df (pd.DataFrame):\n",
    "            review DataFrame object to clean\n",
    "    Returns:\n",
    "        cleaned DataFrame object\n",
    "    \"\"\"\n",
    "    print(\"=== Review Data Cleaning Results ===\")\n",
    "    \n",
    "    # Clean out null values\n",
    "    clean, num_null, percent_null = drop_null(df)\n",
    "    print('  Null entries dropped:  {0} ({1}%)'.format(num_null, round(percent_null, 2)))\n",
    "    \n",
    "    return clean"
   ]
  },
  {
   "cell_type": "code",
   "execution_count": 12,
   "id": "218f90af-54fb-4672-b857-73cea3cdcb33",
   "metadata": {},
   "outputs": [
    {
     "name": "stdout",
     "output_type": "stream",
     "text": [
      "=== Review Data Cleaning Results ===\n",
      "  Null entries dropped:  0 (0.0%)\n"
     ]
    }
   ],
   "source": [
    "df = load_data('yelp_academic_dataset_review.pickle')\n",
    "df = clean_review(df)"
   ]
  },
  {
   "cell_type": "markdown",
   "id": "2388adab-0876-4127-ad9a-7d77dbb82b20",
   "metadata": {},
   "source": [
    "## Exploratory Data Analysis"
   ]
  },
  {
   "cell_type": "markdown",
   "id": "c4e5d750-bdc9-4cce-b2be-4ee1a79b75d8",
   "metadata": {},
   "source": [
    "### Business Data"
   ]
  },
  {
   "cell_type": "code",
   "execution_count": 168,
   "id": "42e70dad-ec17-4ac4-9de4-8fed5f374bdd",
   "metadata": {},
   "outputs": [
    {
     "name": "stdout",
     "output_type": "stream",
     "text": [
      "=== Business Data Cleaning Results ===\n",
      "  Null entries dropped:   27341 (17.03%)\n",
      "  Duplicate business_id:  0\n"
     ]
    }
   ],
   "source": [
    "df = clean_business(load_data('yelp_academic_dataset_business.pickle'))"
   ]
  },
  {
   "cell_type": "code",
   "execution_count": 169,
   "id": "ceff9d20-ad1e-4c72-8db4-94423f8cfbbb",
   "metadata": {},
   "outputs": [
    {
     "data": {
      "image/png": "[encoded data removed]",
      "text/plain": [
       "<Figure size 432x288 with 1 Axes>"
      ]
     },
     "metadata": {
      "needs_background": "light"
     },
     "output_type": "display_data"
    }
   ],
   "source": [
    "plt.hist(df.stars, bins=[1,1.5,2,2.5,3,3.5,4,4.5,5], density=True)\n",
    "plt.title('Business Star Rating Distrubition')\n",
    "plt.ylabel('Likelihood of Occurrence')\n",
    "plt.xlabel('Star Rating')\n",
    "plt.show()"
   ]
  },
  {
   "cell_type": "code",
   "execution_count": 170,
   "id": "da5120cf-9721-4d5d-9fd9-3e9a46b5e5db",
   "metadata": {},
   "outputs": [
    {
     "data": {
      "image/png": "[encoded data removed]",
      "text/plain": [
       "<Figure size 864x288 with 2 Axes>"
      ]
     },
     "metadata": {
      "needs_background": "light"
     },
     "output_type": "display_data"
    }
   ],
   "source": [
    "fig, ax = plt.subplots(1, 2, figsize=(12,4))\n",
    "\n",
    "ax[0].hist(df.review_count, density=True)\n",
    "ax[0].set_title('Business Review Count Distribution')\n",
    "ax[0].set_ylabel('Likelihood of Occurrence')\n",
    "ax[0].set_xlabel('Review Count')\n",
    "\n",
    "ax[1].hist(df.review_count, 3000, density=True)\n",
    "ax[1].set_title('Logarithmic Business Review Count Distribution')\n",
    "ax[1].set_ylabel('Likelihood of Occurrence')\n",
    "ax[1].set_yscale('log')\n",
    "ax[1].set_xlabel('Review Count')\n",
    "ax[1].set_xscale('log')\n",
    "\n",
    "plt.show()"
   ]
  },
  {
   "cell_type": "code",
   "execution_count": 172,
   "id": "e3d604c3-675d-454e-a632-97b5c72213f6",
   "metadata": {},
   "outputs": [
    {
     "data": {
      "image/png": "[encoded data removed]",
      "text/plain": [
       "<Figure size 432x288 with 1 Axes>"
      ]
     },
     "metadata": {
      "needs_background": "light"
     },
     "output_type": "display_data"
    }
   ],
   "source": [
    "star_values = [i*0.5 + 0.5 for i in range(1,10)]\n",
    "star_bins = [df[df.stars==s].review_count for s in star_values]\n",
    "\n",
    "plt.boxplot(star_bins)\n",
    "plt.xticks(list(range(1,10)), star_values)\n",
    "plt.title('Business Review Count vs Star Rating Boxplots')\n",
    "plt.ylabel('Review Count')\n",
    "plt.yscale('log')\n",
    "plt.xlabel('Business Star Rating')\n",
    "\n",
    "plt.show()"
   ]
  },
  {
   "cell_type": "markdown",
   "id": "03404835-5f40-4c7e-b70a-a505658e1668",
   "metadata": {},
   "source": [
    "### User Data"
   ]
  },
  {
   "cell_type": "code",
   "execution_count": 173,
   "id": "9df5c19a-4ce2-4e02-bf88-3b34f24563a1",
   "metadata": {},
   "outputs": [
    {
     "name": "stdout",
     "output_type": "stream",
     "text": [
      "=== User Data Cleaning Results ===\n",
      "  Null entries dropped:  0 (0.0%)\n",
      "  Duplicate user_id:     0\n",
      "  Outliers removed:      4\n"
     ]
    }
   ],
   "source": [
    "df = clean_user(load_data('yelp_academic_dataset_user.pickle'))"
   ]
  },
  {
   "cell_type": "code",
   "execution_count": 44,
   "id": "693be96c-f62d-4ca0-8832-ef92a831ebcd",
   "metadata": {},
   "outputs": [
    {
     "data": {
      "image/png": "[encoded data removed]",
      "text/plain": [
       "<Figure size 1296x288 with 3 Axes>"
      ]
     },
     "metadata": {
      "needs_background": "light"
     },
     "output_type": "display_data"
    }
   ],
   "source": [
    "fig, ax = plt.subplots(1,3, figsize=(18,4))\n",
    "\n",
    "ax[0].hist(df.review_count, 30, density=True)\n",
    "ax[0].set_title('User Review Count Distribution')\n",
    "ax[0].set_ylabel('Likelihood of Occurrence')\n",
    "ax[0].set_xlabel('Review Count')\n",
    "\n",
    "ax[1].hist(df.review_count, 3000, density=True)\n",
    "ax[1].set_title('Logarithmic User Review Count Distribution')\n",
    "ax[1].set_ylabel('Likelihood of Occurrence')\n",
    "ax[1].set_yscale('log')\n",
    "ax[1].set_xlabel('Review Count')\n",
    "ax[1].set_xscale('log')\n",
    "\n",
    "ax[2].boxplot(df.review_count)\n",
    "ax[2].set_title('User Review Count Boxplot')\n",
    "ax[2].set_ylabel('Review Count')\n",
    "ax[2].set_yscale('log')\n",
    "ax[2].set_xticks([])\n",
    "\n",
    "plt.show()"
   ]
  },
  {
   "cell_type": "code",
   "execution_count": 58,
   "id": "766d11ba-5634-4af6-917d-9d4507afc0be",
   "metadata": {},
   "outputs": [
    {
     "data": {
      "image/png": "[encoded data removed]",
      "text/plain": [
       "<Figure size 1296x288 with 3 Axes>"
      ]
     },
     "metadata": {
      "needs_background": "light"
     },
     "output_type": "display_data"
    }
   ],
   "source": [
    "count_friends = lambda x: len(x.split(',')) if x != 'None' else 0\n",
    "friend_count = df.friends.map(count_friends)\n",
    "\n",
    "fig, ax = plt.subplots(1,3, figsize=(18,4))\n",
    "\n",
    "ax[0].hist(friend_count, 30, density=True)\n",
    "ax[0].set_title('User Friend Count Distribution')\n",
    "ax[0].set_ylabel('Likelihood of Occurrence')\n",
    "ax[0].set_xlabel('Review Count')\n",
    "\n",
    "ax[1].hist(friend_count, 3000, density=True)\n",
    "ax[1].set_title('Logarithmic User Friend Count Distribution')\n",
    "ax[1].set_ylabel('Likelihood of Occurrence')\n",
    "ax[1].set_yscale('log')\n",
    "ax[1].set_xlabel('Friend Count')\n",
    "ax[1].set_xscale('log')\n",
    "\n",
    "ax[2].boxplot(friend_count)\n",
    "ax[2].set_title('User Friend Count Boxplot')\n",
    "ax[2].set_ylabel('Friend Count')\n",
    "ax[2].set_yscale('log')\n",
    "ax[2].set_xticks([])\n",
    "\n",
    "plt.show()"
   ]
  },
  {
   "cell_type": "code",
   "execution_count": 175,
   "id": "d5c70d55-8e39-4112-8318-5e465df28a78",
   "metadata": {},
   "outputs": [
    {
     "data": {
      "image/png": "[encoded data removed]",
      "text/plain": [
       "<Figure size 432x288 with 1 Axes>"
      ]
     },
     "metadata": {
      "needs_background": "light"
     },
     "output_type": "display_data"
    }
   ],
   "source": [
    "plt.hist(df.average_stars, density=True)\n",
    "plt.title('User Average Star Rating Distribution')\n",
    "plt.ylabel('Likelihood of Occurrence')\n",
    "plt.xlabel('Average Star Rating')\n",
    "plt.show()"
   ]
  },
  {
   "cell_type": "code",
   "execution_count": 190,
   "id": "91cd4cb9-1067-4d03-bc0e-3647e019db1d",
   "metadata": {},
   "outputs": [
    {
     "data": {
      "image/png": "[encoded data removed]",
      "text/plain": [
       "<Figure size 864x288 with 2 Axes>"
      ]
     },
     "metadata": {
      "needs_background": "light"
     },
     "output_type": "display_data"
    }
   ],
   "source": [
    "fig, ax = plt.subplots(1,2, figsize=(12,4))\n",
    "\n",
    "ax[0].scatter(df.average_stars, df.review_count)\n",
    "ax[0].set_title('User Average Star Rating vs Review Count')\n",
    "ax[0].set_ylabel('Review Count')\n",
    "ax[0].set_xlabel('Average Star Rating')\n",
    "\n",
    "limit = 5000\n",
    "ax[1].scatter(df.average_stars, df.review_count)\n",
    "ax[1].set_title('User Average Star Rating vs Review Count (<{0})'.format(limit))\n",
    "ax[1].set_ylabel('Review Count')\n",
    "ax[1].set_ylim(0, limit)\n",
    "ax[1].set_xlabel('Average Star Rating')\n",
    "\n",
    "plt.show()"
   ]
  },
  {
   "cell_type": "code",
   "execution_count": 191,
   "id": "e9e8ca42-ae5e-4b19-a9dc-1f3d5f0f2648",
   "metadata": {},
   "outputs": [
    {
     "data": {
      "image/png": "[encoded data removed]",
      "text/plain": [
       "<Figure size 864x288 with 2 Axes>"
      ]
     },
     "metadata": {
      "needs_background": "light"
     },
     "output_type": "display_data"
    }
   ],
   "source": [
    "count_friends = lambda x: len(x.split(',')) if x != 'None' else 0\n",
    "friend_count = df.friends.map(count_friends)\n",
    "\n",
    "fig, ax = plt.subplots(1,2, figsize=(12,4))\n",
    "\n",
    "ax[0].scatter(df.average_stars, friend_count)\n",
    "ax[0].set_title('User Average Star Rating vs Friend Count')\n",
    "ax[0].set_ylabel('Friend Count')\n",
    "ax[0].set_xlabel('Average Star Rating')\n",
    "\n",
    "limit = 10000\n",
    "ax[1].scatter(df.average_stars, friend_count)\n",
    "ax[1].set_title('User Average Star Rating vs Friend Count (<{0})'.format(limit))\n",
    "ax[1].set_ylabel('Friend Count')\n",
    "ax[1].set_ylim(0, limit)\n",
    "ax[1].set_xlabel('Average Star Rating')\n",
    "\n",
    "plt.show()"
   ]
  },
  {
   "cell_type": "code",
   "execution_count": 184,
   "id": "15a3c939-eef2-4c46-b305-6ac0dbd4ca44",
   "metadata": {},
   "outputs": [
    {
     "data": {
      "image/png": "[encoded data removed]",
      "text/plain": [
       "<Figure size 864x288 with 2 Axes>"
      ]
     },
     "metadata": {
      "needs_background": "light"
     },
     "output_type": "display_data"
    }
   ],
   "source": [
    "count_friends = lambda x: len(x.split(',')) if x != 'None' else 0\n",
    "friend_count = df.friends.map(count_friends)\n",
    "\n",
    "fig, ax = plt.subplots(1,2, figsize=(12,4))\n",
    "\n",
    "ax[0].scatter(df.review_count, friend_count)\n",
    "ax[0].set_title('User Review Count vs Friend Count')\n",
    "ax[0].set_xlabel('Review Count')\n",
    "ax[0].set_ylabel('Friend Count')\n",
    "\n",
    "ax[1].scatter(df.review_count, friend_count)\n",
    "ax[1].set_title('Logarithmic User Review Count vs Friend Count')\n",
    "ax[1].set_xlabel('Review Count')\n",
    "ax[1].set_xscale('log')\n",
    "ax[1].set_ylabel('Friend Count')\n",
    "ax[1].set_yscale('log')\n",
    "\n",
    "\n",
    "plt.show()"
   ]
  },
  {
   "cell_type": "code",
   "execution_count": 361,
   "id": "29b6ffd5-7000-4318-8b89-9a6b66135c9a",
   "metadata": {},
   "outputs": [],
   "source": [
    "def count_friends_in_data(friends: object, users: object) -> object:\n",
    "    \"\"\"Count number of friends for each user present in user dataset \n",
    "    \n",
    "    Args:\n",
    "        friends (pd.Series): \n",
    "            series of lists of users' friends\n",
    "        users (pd.Series):\n",
    "            series of all user_id available in dataset\n",
    "    Returns:\n",
    "        pandas Series object with count of how many friends from each\n",
    "        user's friend list are present in the user dataset\n",
    "    \"\"\"\n",
    "    def helper(friend_list):\n",
    "        if friend_list == 'None':\n",
    "            return 0\n",
    "        return sum([(users==f).any() for f in friend_list.split(', ')])\n",
    "    \n",
    "    return friends.map(helper)"
   ]
  },
  {
   "cell_type": "code",
   "execution_count": 103,
   "id": "b334ada9-746e-4d2e-bab5-c90edadc134e",
   "metadata": {},
   "outputs": [
    {
     "data": {
      "text/plain": [
       "10     48\n",
       "11     13\n",
       "12    158\n",
       "13     95\n",
       "14     13\n",
       "15    145\n",
       "16    191\n",
       "17     39\n",
       "18     84\n",
       "19     56\n",
       "Name: friends, dtype: int64"
      ]
     },
     "execution_count": 103,
     "metadata": {},
     "output_type": "execute_result"
    }
   ],
   "source": [
    "count_friends_in_data(df.friends[10:20], df.user_id)"
   ]
  },
  {
   "cell_type": "markdown",
   "id": "739a7fa9-fd8b-4745-bf34-b2b799a1095f",
   "metadata": {},
   "source": [
    "### Review Data"
   ]
  },
  {
   "cell_type": "code",
   "execution_count": 192,
   "id": "c19e1027-60ea-485a-9acd-f7a3d755beef",
   "metadata": {},
   "outputs": [
    {
     "name": "stdout",
     "output_type": "stream",
     "text": [
      "=== Review Data Cleaning Results ===\n",
      "  Null entries dropped:  0 (0.0%)\n"
     ]
    }
   ],
   "source": [
    "df = clean_review(load_data('yelp_academic_dataset_review.pickle'))"
   ]
  },
  {
   "cell_type": "code",
   "execution_count": 128,
   "id": "f6bdea60-47b2-4681-8393-812ebbc42408",
   "metadata": {},
   "outputs": [
    {
     "name": "stdout",
     "output_type": "stream",
     "text": [
      "          Number of Reviews: 8635403\n",
      "     Number of Unique Users: 2189457\n",
      "Number of Unique Businesses: 160585\n"
     ]
    }
   ],
   "source": [
    "print('          Number of Reviews: {0}'.format(len(df)))\n",
    "print('     Number of Unique Users: {0}'.format(len(df.user_id.unique())))\n",
    "print('Number of Unique Businesses: {0}'.format(len(df.business_id.unique())))"
   ]
  },
  {
   "cell_type": "code",
   "execution_count": 129,
   "id": "c7a265e3-fa44-437d-85b2-6176c4e43470",
   "metadata": {},
   "outputs": [
    {
     "data": {
      "image/png": "[encoded data removed]",
      "text/plain": [
       "<Figure size 432x288 with 1 Axes>"
      ]
     },
     "metadata": {
      "needs_background": "light"
     },
     "output_type": "display_data"
    }
   ],
   "source": [
    "plt.hist(df.stars, bins=[s+0.5 for s in range(0,6)])\n",
    "plt.title('Review Star Distribution')\n",
    "plt.ylabel('Star Rating')\n",
    "plt.xlabel('Count')\n",
    "plt.show()"
   ]
  },
  {
   "cell_type": "code",
   "execution_count": 69,
   "id": "3b42401f-d194-44ee-ade9-c7bc371b24b4",
   "metadata": {},
   "outputs": [
    {
     "name": "stdout",
     "output_type": "stream",
     "text": [
      "=== Reviews by User Summary ===\n",
      "  Max:    6073\n",
      "  Mean:   3.944084309488608\n",
      "  Median: 1.0\n",
      "  Min:    1\n"
     ]
    },
    {
     "data": {
      "image/png": "[encoded data removed]",
      "text/plain": [
       "<Figure size 864x288 with 2 Axes>"
      ]
     },
     "metadata": {
      "needs_background": "light"
     },
     "output_type": "display_data"
    }
   ],
   "source": [
    "# Count number of reviews by each user in Review set\n",
    "review_count_user = df.user_id.value_counts()\n",
    "\n",
    "print('=== Reviews by User Summary ===')\n",
    "print('  Max:    {0}'.format(max(review_count_user)))\n",
    "print('  Mean:   {0}'.format(review_count_user.mean()))\n",
    "print('  Median: {0}'.format(review_count_user.median()))\n",
    "print('  Min:    {0}'.format(min(review_count_user)))\n",
    "\n",
    "fig, ax = plt.subplots(1,2, figsize=(12,4))\n",
    "\n",
    "ax[0].hist(review_count_user, 30, density=True)\n",
    "ax[0].set_title('Number of Reviews by Each User Distribution')\n",
    "ax[0].set_xlabel('Number of Reviews')\n",
    "ax[0].set_ylabel('Likelihood of Occurrence')\n",
    "\n",
    "ax[1].hist(review_count_user, 1000, density=True)\n",
    "ax[1].set_title('Number of Reviews by Each User Logarithmic Distribution')\n",
    "ax[1].set_xlabel('Number of Reviews')\n",
    "ax[1].set_xscale('log')\n",
    "ax[1].set_ylabel('Liklihood of Occurrence')\n",
    "ax[1].set_yscale('log')"
   ]
  },
  {
   "cell_type": "code",
   "execution_count": 70,
   "id": "60643f23-0464-429b-9de2-cf9c47ed8cd1",
   "metadata": {},
   "outputs": [
    {
     "name": "stdout",
     "output_type": "stream",
     "text": [
      "=== Reviews of Business Summary ===\n",
      "  Max:    6073\n",
      "  Mean:   3.944084309488608\n",
      "  Median: 1.0\n",
      "  Min:    1\n"
     ]
    },
    {
     "data": {
      "image/png": "[encoded data removed]",
      "text/plain": [
       "<Figure size 864x288 with 2 Axes>"
      ]
     },
     "metadata": {
      "needs_background": "light"
     },
     "output_type": "display_data"
    }
   ],
   "source": [
    "# Count number of reviews for each business in Review set\n",
    "review_count_business = df.business_id.value_counts()\n",
    "\n",
    "print('=== Reviews of Business Summary ===')\n",
    "print('  Max:    {0}'.format(max(review_count_user)))\n",
    "print('  Mean:   {0}'.format(review_count_user.mean()))\n",
    "print('  Median: {0}'.format(review_count_user.median()))\n",
    "print('  Min:    {0}'.format(min(review_count_user)))\n",
    "\n",
    "\n",
    "fig, ax = plt.subplots(1,2, figsize=(12,4))\n",
    "\n",
    "ax[0].hist(review_count_business, 30, density=True)\n",
    "ax[0].set_title('Number of Reviews of Each Business Distribution')\n",
    "ax[0].set_xlabel('Number of Reviews')\n",
    "ax[0].set_ylabel('Likelihood of Occurrence')\n",
    "\n",
    "ax[1].hist(review_count_business, 1000, density=True)\n",
    "ax[1].set_title('Number of Reviews of Each Business Logarithmic Distribution')\n",
    "ax[1].set_xlabel('Number of Reviews')\n",
    "ax[1].set_xscale('log')\n",
    "ax[1].set_ylabel('Liklihood of Occurrence')\n",
    "ax[1].set_yscale('log')"
   ]
  },
  {
   "cell_type": "code",
   "execution_count": 63,
   "id": "b251f4d6-8fb8-49fc-bf57-033345d9cd8b",
   "metadata": {},
   "outputs": [
    {
     "data": {
      "image/png": "[encoded data removed]",
      "text/plain": [
       "<Figure size 1296x288 with 3 Axes>"
      ]
     },
     "metadata": {
      "needs_background": "light"
     },
     "output_type": "display_data"
    }
   ],
   "source": [
    "text_len = df.text.map(len)\n",
    "\n",
    "fig, ax = plt.subplots(1,3, figsize=(18,4))\n",
    "\n",
    "ax[0].hist(text_len, 200, density=True)\n",
    "ax[0].set_title('Review Text Length Distribution')\n",
    "ax[0].set_xlabel('Review Text Length (characters)')\n",
    "ax[0].set_ylabel('Liklihood of Occurrence')\n",
    "\n",
    "ax[1].hist(text_len, 200, density=True)\n",
    "ax[1].set_title('Reivew Text Length Distribution (<2000 Characters)')\n",
    "ax[1].set_xlabel('Review Text Length (characters)')\n",
    "ax[1].set_xlim(0, 2000)\n",
    "ax[1].set_ylabel('Likelihood of Occurrence')\n",
    "\n",
    "ax[2].hist(text_len, 300, density=True)\n",
    "ax[2].set_title('Review Text Length Logarithmic Distribution')\n",
    "ax[2].set_xlabel('Review Text Length (characters)')\n",
    "ax[2].set_xscale('log')\n",
    "ax[2].set_ylabel('Liklihood of Occurrence')\n",
    "ax[2].set_yscale('log')\n",
    "\n",
    "plt.show()"
   ]
  },
  {
   "cell_type": "code",
   "execution_count": 195,
   "id": "5cef0bd9-34a4-4b95-bf6b-6c48967d88a8",
   "metadata": {},
   "outputs": [
    {
     "data": {
      "image/png": "[encoded data removed]",
      "text/plain": [
       "<Figure size 432x288 with 1 Axes>"
      ]
     },
     "metadata": {
      "needs_background": "light"
     },
     "output_type": "display_data"
    }
   ],
   "source": [
    "star_values = [i for i in range(1,6)]\n",
    "star_bins = [df[df.stars==s].text.map(len) for s in star_values]\n",
    "\n",
    "plt.boxplot(star_bins)\n",
    "plt.title('Review Text Length vs Star Rating Boxplots')\n",
    "plt.xlabel('Star Rating')\n",
    "plt.ylabel('Review Text Length (characters)')\n",
    "plt.yscale('log')\n",
    "\n",
    "plt.show()"
   ]
  },
  {
   "cell_type": "markdown",
   "id": "74066dc6-f98a-4a98-8d47-e7606b8a079f",
   "metadata": {},
   "source": [
    "### Combinations of Data"
   ]
  },
  {
   "cell_type": "code",
   "execution_count": 196,
   "id": "80023180-d52f-4091-9cf7-25a4cd0ede3d",
   "metadata": {},
   "outputs": [
    {
     "name": "stdout",
     "output_type": "stream",
     "text": [
      "=== Business Data Cleaning Results ===\n",
      "  Null entries dropped:   27341 (17.03%)\n",
      "  Duplicate business_id:  0\n",
      "=== Review Data Cleaning Results ===\n",
      "  Null entries dropped:  0 (0.0%)\n"
     ]
    }
   ],
   "source": [
    "df_bus = clean_business(load_data('yelp_academic_dataset_business.pickle'))\n",
    "df_rev = clean_review(load_data('yelp_academic_dataset_review.pickle'))"
   ]
  },
  {
   "cell_type": "code",
   "execution_count": 362,
   "id": "830e7896-4057-435d-aefd-673b469ca332",
   "metadata": {},
   "outputs": [],
   "source": [
    "def inhours_df(review_data: object, business_data: object) -> object:\n",
    "    \"\"\"Generate in_hours classifier DataFrame\n",
    "\n",
    "    Args:\n",
    "        review_data (pd.DataFrame):\n",
    "            Yelp review dataset\n",
    "        business_data (pd.DataFrame):\n",
    "            Yelp business dataset\n",
    "    Returns:\n",
    "        pandas DataFrame object with the following columns:\n",
    "            business_id\n",
    "            review_id\n",
    "            stars\n",
    "            date\n",
    "            hours\n",
    "            in_hours\n",
    "    \"\"\"\n",
    "    q3 = review_data[['business_id', 'review_id', 'stars', 'date']]\n",
    "    q3 = q3.merge(business_data[['business_id', 'hours']])\n",
    "    \n",
    "    in_hours = lambda r: in_business_hours(r.date, r.hours)\n",
    "    q3['in_hours'] = q3.apply(in_hours, axis=1)\n",
    "    return q3 "
   ]
  },
  {
   "cell_type": "code",
   "execution_count": 159,
   "id": "c83ddd7c-c7be-458a-a068-d563d48484db",
   "metadata": {},
   "outputs": [],
   "source": [
    "# q3 = build_q3_df(df_rev, df_bus)\n",
    "q3 = build_q3_df(df_rev.sample(n=10000), df_bus)"
   ]
  },
  {
   "cell_type": "code",
   "execution_count": 198,
   "id": "6ec8f915-3188-4efc-8d2a-3fef422d1d1d",
   "metadata": {},
   "outputs": [
    {
     "data": {
      "image/png": "[encoded data removed]",
      "text/plain": [
       "<Figure size 432x288 with 1 Axes>"
      ]
     },
     "metadata": {
      "needs_background": "light"
     },
     "output_type": "display_data"
    }
   ],
   "source": [
    "stars_in_hours = q3[q3.in_hours].stars\n",
    "stars_out_hours = q3[~q3.in_hours].stars\n",
    "\n",
    "plt.boxplot([stars_in_hours, stars_out_hours])\n",
    "plt.title('Boxplot of Review Star Ratings')\n",
    "plt.ylabel('Star Rating')\n",
    "plt.xticks([1,2], ['During Business Hours\\n(n={0})'.format(len(stars_in_hours)), 'Outside Business Hours\\n(n={0})'.format(len(stars_out_hours))])\n",
    "\n",
    "plt.show()"
   ]
  },
  {
   "cell_type": "markdown",
   "id": "07def328-9da0-4021-a34c-3f68d5667846",
   "metadata": {},
   "source": [
    "## Statistics and Modeling"
   ]
  },
  {
   "cell_type": "markdown",
   "id": "e3a39e42-b42d-40c3-9f04-740323cebbc3",
   "metadata": {},
   "source": [
    "### Problem 1: User Activity and Average Rating"
   ]
  },
  {
   "cell_type": "code",
   "execution_count": 200,
   "id": "7f8e1805-0c19-4681-a755-fab75ff324d4",
   "metadata": {},
   "outputs": [
    {
     "name": "stdout",
     "output_type": "stream",
     "text": [
      "=== User Data Cleaning Results ===\n",
      "  Null entries dropped:  0 (0.0%)\n",
      "  Duplicate user_id:     0\n",
      "  Outliers removed:      4\n"
     ]
    }
   ],
   "source": [
    "df = clean_user(load_data('yelp_academic_dataset_user.pickle'))"
   ]
  },
  {
   "cell_type": "code",
   "execution_count": 203,
   "id": "219d4542-5a5f-4064-8f81-b5dd4d81a199",
   "metadata": {},
   "outputs": [
    {
     "name": "stdout",
     "output_type": "stream",
     "text": [
      "=== Review Count vs Average Stars ===\n",
      "  Pearson  : (0.038047942217639456, 0.0)\n",
      "  Spearman : SpearmanrResult(correlation=-0.0029122457398685258, pvalue=1.638472235305368e-05)\n",
      "=== Friend Count vs Average Stars ===\n",
      "  Pearson  : (0.05780822742976715, 0.0)\n",
      "  Spearman : SpearmanrResult(correlation=0.06910872458630603, pvalue=0.0)\n"
     ]
    }
   ],
   "source": [
    "from scipy.stats import pearsonr, spearmanr\n",
    "\n",
    "reviews_pearson = pearsonr(df.review_count, df.average_stars)\n",
    "reviews_spearman = spearmanr(df.review_count, df.average_stars)\n",
    "\n",
    "count_friends = lambda x: len(x.split(',')) if x != 'None' else 0\n",
    "friend_count = df.friends.map(count_friends)\n",
    "\n",
    "friends_pearson = pearsonr(friend_count, df.average_stars)\n",
    "friends_spearman = spearmanr(friend_count, df.average_stars)\n",
    "\n",
    "print('=== Review Count vs Average Stars ===')\n",
    "print('  Pearson  : {0}'.format(reviews_pearson))\n",
    "print('  Spearman : {0}'.format(reviews_spearman))\n",
    "print('=== Friend Count vs Average Stars ===')\n",
    "print('  Pearson  : {0}'.format(friends_pearson))\n",
    "print('  Spearman : {0}'.format(friends_spearman))"
   ]
  },
  {
   "cell_type": "markdown",
   "id": "f7b3c9c3-6c1d-491b-9c60-91d791744cb5",
   "metadata": {},
   "source": [
    "### Problem 2: Review Text vs Star Rating"
   ]
  },
  {
   "cell_type": "code",
   "execution_count": 63,
   "id": "7d7c5ad7-57ab-4416-995d-9e628504818c",
   "metadata": {},
   "outputs": [
    {
     "name": "stdout",
     "output_type": "stream",
     "text": [
      "=== Review Data Cleaning Results ===\n",
      "  Null entries dropped:  0 (0.0%)\n"
     ]
    }
   ],
   "source": [
    "df = clean_review(load_data('yelp_academic_dataset_review.pickle'))\n",
    "df = df[['text', 'stars']]"
   ]
  },
  {
   "cell_type": "code",
   "execution_count": 219,
   "id": "8d345681-c3ea-4b0f-8f01-440248700edd",
   "metadata": {},
   "outputs": [
    {
     "name": "stdout",
     "output_type": "stream",
     "text": [
      "=== Review Text Length vs Star Rating ===\n",
      "  Pearson  : (-0.1853451377786109, 0.0)\n",
      "  Spearman : SpearmanrResult(correlation=-0.20419977610266674, pvalue=0.0)\n"
     ]
    }
   ],
   "source": [
    "from scipy.stats import pearsonr, spearmanr\n",
    "\n",
    "df['textlen'] = df[['text']].applymap(len)\n",
    "\n",
    "text_pearson = pearsonr(df['textlen'], df.stars)\n",
    "text_spearman = spearmanr(df['textlen'], df.stars)\n",
    "\n",
    "print('=== Review Text Length vs Star Rating ===')\n",
    "print('  Pearson  : {0}'.format(text_pearson))\n",
    "print('  Spearman : {0}'.format(text_spearman))"
   ]
  },
  {
   "cell_type": "code",
   "execution_count": 145,
   "id": "e9cfadd5-f2b1-4b7e-ae35-7728adec8031",
   "metadata": {},
   "outputs": [],
   "source": [
    "import nltk\n",
    "from nltk.sentiment.vader import SentimentIntensityAnalyzer\n",
    "\n",
    "def sentiment_df(text_series):\n",
    "    \"\"\" Create sentiment DataFrame for a given Series of text\n",
    "    \n",
    "    Args:\n",
    "        text_series (pd.Series):\n",
    "            series of text \n",
    "    Returns:\n",
    "        DataFrame with columns of the sentiment values from the\n",
    "        nltk SentimentIntensityAnalyzer class. Specifically, the\n",
    "        column values are:\n",
    "            neg\n",
    "            neu\n",
    "            pos\n",
    "    \"\"\"\n",
    "    sia = SentimentIntensityAnalyzer()\n",
    "    \n",
    "    sentiments = text_series.apply(\n",
    "        lambda t: list(sia.polarity_scores(t).values())[:3]\n",
    "    ).tolist()\n",
    "    \n",
    "    return pd.DataFrame(sentiments, columns=['neg', 'neu', 'pos'])"
   ]
  },
  {
   "cell_type": "code",
   "execution_count": 162,
   "id": "e64327e0-a36f-4601-a0b2-377c97b2cacc",
   "metadata": {},
   "outputs": [],
   "source": [
    "df = df.join(sentiment_df(df['text']))"
   ]
  },
  {
   "cell_type": "code",
   "execution_count": 167,
   "id": "31c78711-44bc-4e2d-b045-d24f54f0059f",
   "metadata": {},
   "outputs": [],
   "source": [
    "save_data(df, 'review_sentiment.pickle')"
   ]
  },
  {
   "cell_type": "code",
   "execution_count": 217,
   "id": "7d53c311-fab7-41e9-8c44-80080a99d672",
   "metadata": {},
   "outputs": [],
   "source": [
    "from sklearn.model_selection import cross_val_score\n",
    "from sklearn.linear_model import LinearRegression\n",
    "from sklearn.ensemble import GradientBoostingRegressor\n",
    "\n",
    "#cv = cross_val_score(GradientBoostingRegressor(), df[['neg', 'pos', 'neu']], df['stars'], cv=3)"
   ]
  },
  {
   "cell_type": "code",
   "execution_count": 236,
   "id": "7e1dca1e-7292-4319-b299-43f0f324109a",
   "metadata": {},
   "outputs": [
    {
     "name": "stdout",
     "output_type": "stream",
     "text": [
      "=== Gradient Boosting Regressor ===\n",
      "  R^2: 0.5314094895662334\n",
      "  Feature Importances: [0.22506617 0.01153025 0.76340358]\n",
      "\n",
      "=== Linear Regression ===\n",
      "  R^2: 0.40816319388662836\n",
      "  Coefficients: [-8.54630138  0.25556125  5.39673278]\n"
     ]
    }
   ],
   "source": [
    "n = 10000\n",
    "sample = df.sample(n=n)\n",
    "\n",
    "train = sample[:4*n//5]\n",
    "test = sample[n//5:]\n",
    "\n",
    "train_feat = train[['neg', 'neu', 'pos']]\n",
    "train_targ = train['stars']\n",
    "test_feat = test[['neg', 'neu', 'pos']]\n",
    "test_targ = test['stars']\n",
    "\n",
    "from sklearn.ensemble import GradientBoostingRegressor\n",
    "\n",
    "gbr = GradientBoostingRegressor()\n",
    "gbr.fit(train_feat, train_targ)\n",
    "print('=== Gradient Boosting Regressor ===')\n",
    "print('  R^2: {0}'.format(gbr.score(test_feat, test_targ)))\n",
    "print('  Feature Importances: {0}'.format(gbr.feature_importances_))\n",
    "\n",
    "from sklearn.linear_model import LinearRegression\n",
    "\n",
    "linear = LinearRegression()\n",
    "linear.fit(train_feat, train_targ)\n",
    "print('\\n=== Linear Regression ===')\n",
    "print('  R^2: {0}'.format(linear.score(test_feat, test_targ)))\n",
    "print('  Coefficients: {0}'.format(linear.coef_))"
   ]
  },
  {
   "cell_type": "code",
   "execution_count": 237,
   "id": "5ceefce5-681b-40fb-b85b-58b9d3ca8377",
   "metadata": {},
   "outputs": [
    {
     "data": {
      "text/plain": [
       "2.861562120416803"
      ]
     },
     "execution_count": 237,
     "metadata": {},
     "output_type": "execute_result"
    }
   ],
   "source": [
    "linear.intercept_"
   ]
  },
  {
   "cell_type": "code",
   "execution_count": 238,
   "id": "7f4a4a68-dd5b-4288-a90b-b87aa9e79ca2",
   "metadata": {},
   "outputs": [],
   "source": [
    "grouped = df.groupby('stars')"
   ]
  },
  {
   "cell_type": "code",
   "execution_count": 247,
   "id": "a686f903-94aa-43e5-8190-31402aed97d3",
   "metadata": {},
   "outputs": [
    {
     "data": {
      "text/plain": [
       "neg          0.098\n",
       "neu          0.821\n",
       "pos          0.071\n",
       "textlen    541.000\n",
       "Name: 1.0, dtype: float64"
      ]
     },
     "execution_count": 247,
     "metadata": {},
     "output_type": "execute_result"
    }
   ],
   "source": [
    "median = grouped.median()\n"
   ]
  },
  {
   "cell_type": "code",
   "execution_count": 264,
   "id": "9745639d-6c93-4f89-a63f-214119b71b1a",
   "metadata": {},
   "outputs": [
    {
     "data": {
      "image/png": "[encoded data removed]",
      "text/plain": [
       "<Figure size 432x432 with 1 Axes>"
      ]
     },
     "metadata": {
      "needs_background": "light"
     },
     "output_type": "display_data"
    }
   ],
   "source": [
    "cols = ['neg', 'neu', 'pos']\n",
    "\n",
    "from math import pi\n",
    "from numpy import linspace\n",
    "theta = linspace(0, 2*pi, len(cols)+1)\n",
    "\n",
    "plt.figure(figsize=(6,6))\n",
    "plt.polar()\n",
    "for i in range(0, 5):\n",
    "    d = list(median.iloc[i].values[:-1])\n",
    "    d.append(d[0])\n",
    "    plt.plot(theta, d, label='{0} stars'.format(i+1))\n",
    "plt.xticks(theta[:-1], cols)\n",
    "plt.legend(bbox_to_anchor=(1.05, 1), loc='upper left')\n",
    "plt.show()"
   ]
  },
  {
   "cell_type": "code",
   "execution_count": 270,
   "id": "9ddf00da-79ed-4d8d-98c4-83fd35ec93c2",
   "metadata": {},
   "outputs": [
    {
     "data": {
      "text/html": [
       "<div>\n",
       "<style scoped>\n",
       "    .dataframe tbody tr th:only-of-type {\n",
       "        vertical-align: middle;\n",
       "    }\n",
       "\n",
       "    .dataframe tbody tr th {\n",
       "        vertical-align: top;\n",
       "    }\n",
       "\n",
       "    .dataframe thead th {\n",
       "        text-align: right;\n",
       "    }\n",
       "</style>\n",
       "<table border=\"1\" class=\"dataframe\">\n",
       "  <thead>\n",
       "    <tr style=\"text-align: right;\">\n",
       "      <th></th>\n",
       "      <th>text</th>\n",
       "      <th>stars</th>\n",
       "      <th>neg</th>\n",
       "      <th>neu</th>\n",
       "      <th>pos</th>\n",
       "      <th>textlen</th>\n",
       "    </tr>\n",
       "  </thead>\n",
       "  <tbody>\n",
       "    <tr>\n",
       "      <th>656435</th>\n",
       "      <td>Been here at least 5 times for a series of Hep...</td>\n",
       "      <td>2.0</td>\n",
       "      <td>0.114</td>\n",
       "      <td>0.844</td>\n",
       "      <td>0.042</td>\n",
       "      <td>419</td>\n",
       "    </tr>\n",
       "    <tr>\n",
       "      <th>7955089</th>\n",
       "      <td>Living right around the corner, the place is g...</td>\n",
       "      <td>3.0</td>\n",
       "      <td>0.058</td>\n",
       "      <td>0.819</td>\n",
       "      <td>0.123</td>\n",
       "      <td>818</td>\n",
       "    </tr>\n",
       "    <tr>\n",
       "      <th>1072316</th>\n",
       "      <td>If you are in the mood for tuna kimbab and tto...</td>\n",
       "      <td>4.0</td>\n",
       "      <td>0.000</td>\n",
       "      <td>0.816</td>\n",
       "      <td>0.184</td>\n",
       "      <td>386</td>\n",
       "    </tr>\n",
       "    <tr>\n",
       "      <th>2044699</th>\n",
       "      <td>This isn't your gourmet Asian food, and it isn...</td>\n",
       "      <td>5.0</td>\n",
       "      <td>0.000</td>\n",
       "      <td>0.745</td>\n",
       "      <td>0.255</td>\n",
       "      <td>156</td>\n",
       "    </tr>\n",
       "    <tr>\n",
       "      <th>7487398</th>\n",
       "      <td>It is a great restaurant for kids, because the...</td>\n",
       "      <td>2.0</td>\n",
       "      <td>0.155</td>\n",
       "      <td>0.795</td>\n",
       "      <td>0.049</td>\n",
       "      <td>255</td>\n",
       "    </tr>\n",
       "    <tr>\n",
       "      <th>...</th>\n",
       "      <td>...</td>\n",
       "      <td>...</td>\n",
       "      <td>...</td>\n",
       "      <td>...</td>\n",
       "      <td>...</td>\n",
       "      <td>...</td>\n",
       "    </tr>\n",
       "    <tr>\n",
       "      <th>1852024</th>\n",
       "      <td>We had a very good pizza. Sitting outside in b...</td>\n",
       "      <td>4.0</td>\n",
       "      <td>0.088</td>\n",
       "      <td>0.579</td>\n",
       "      <td>0.333</td>\n",
       "      <td>220</td>\n",
       "    </tr>\n",
       "    <tr>\n",
       "      <th>6111048</th>\n",
       "      <td>Dave &amp; Busters is a fun place to go with frien...</td>\n",
       "      <td>3.0</td>\n",
       "      <td>0.018</td>\n",
       "      <td>0.833</td>\n",
       "      <td>0.148</td>\n",
       "      <td>908</td>\n",
       "    </tr>\n",
       "    <tr>\n",
       "      <th>2321781</th>\n",
       "      <td>Although this store has the best crystals and ...</td>\n",
       "      <td>1.0</td>\n",
       "      <td>0.078</td>\n",
       "      <td>0.805</td>\n",
       "      <td>0.117</td>\n",
       "      <td>553</td>\n",
       "    </tr>\n",
       "    <tr>\n",
       "      <th>2245880</th>\n",
       "      <td>What a breath of fresh air.  Wellesley Volkswa...</td>\n",
       "      <td>5.0</td>\n",
       "      <td>0.059</td>\n",
       "      <td>0.769</td>\n",
       "      <td>0.172</td>\n",
       "      <td>1009</td>\n",
       "    </tr>\n",
       "    <tr>\n",
       "      <th>3332205</th>\n",
       "      <td>The space Celis created is really impressive! ...</td>\n",
       "      <td>5.0</td>\n",
       "      <td>0.000</td>\n",
       "      <td>0.737</td>\n",
       "      <td>0.263</td>\n",
       "      <td>177</td>\n",
       "    </tr>\n",
       "  </tbody>\n",
       "</table>\n",
       "<p>10000 rows × 6 columns</p>\n",
       "</div>"
      ],
      "text/plain": [
       "                                                      text  stars    neg  \\\n",
       "656435   Been here at least 5 times for a series of Hep...    2.0  0.114   \n",
       "7955089  Living right around the corner, the place is g...    3.0  0.058   \n",
       "1072316  If you are in the mood for tuna kimbab and tto...    4.0  0.000   \n",
       "2044699  This isn't your gourmet Asian food, and it isn...    5.0  0.000   \n",
       "7487398  It is a great restaurant for kids, because the...    2.0  0.155   \n",
       "...                                                    ...    ...    ...   \n",
       "1852024  We had a very good pizza. Sitting outside in b...    4.0  0.088   \n",
       "6111048  Dave & Busters is a fun place to go with frien...    3.0  0.018   \n",
       "2321781  Although this store has the best crystals and ...    1.0  0.078   \n",
       "2245880  What a breath of fresh air.  Wellesley Volkswa...    5.0  0.059   \n",
       "3332205  The space Celis created is really impressive! ...    5.0  0.000   \n",
       "\n",
       "           neu    pos  textlen  \n",
       "656435   0.844  0.042      419  \n",
       "7955089  0.819  0.123      818  \n",
       "1072316  0.816  0.184      386  \n",
       "2044699  0.745  0.255      156  \n",
       "7487398  0.795  0.049      255  \n",
       "...        ...    ...      ...  \n",
       "1852024  0.579  0.333      220  \n",
       "6111048  0.833  0.148      908  \n",
       "2321781  0.805  0.117      553  \n",
       "2245880  0.769  0.172     1009  \n",
       "3332205  0.737  0.263      177  \n",
       "\n",
       "[10000 rows x 6 columns]"
      ]
     },
     "execution_count": 270,
     "metadata": {},
     "output_type": "execute_result"
    }
   ],
   "source": [
    "sample"
   ]
  },
  {
   "cell_type": "code",
   "execution_count": 320,
   "id": "c5126d04-9023-47a3-b1f2-1c3d0df460a1",
   "metadata": {},
   "outputs": [
    {
     "data": {
      "image/png": "[encoded data removed]",
      "text/plain": [
       "<Figure size 432x288 with 1 Axes>"
      ]
     },
     "metadata": {
      "needs_background": "light"
     },
     "output_type": "display_data"
    }
   ],
   "source": [
    "import matplotlib.pyplot as plt\n",
    "from matplotlib import cm\n",
    "\n",
    "plt.figure()\n",
    "ax = plt.axes(projection='3d')\n",
    "ax.plot_trisurf(\n",
    "    sample[:1000].neg, \n",
    "    sample[:1000].neu, \n",
    "    sample[:1000].pos, \n",
    "    linewidth=0, \n",
    "    antialiased=True, \n",
    "    cmap=cm.jet\n",
    ")\n",
    "ax.set_xlim(0, 1)\n",
    "ax.set_xlabel('Negative')\n",
    "ax.set_ylim(0, 1)\n",
    "ax.set_ylabel('Neutral')\n",
    "ax.set_zlim(0, 1)\n",
    "ax.set_zlabel('Positive')\n",
    "ax.view_init(20, -90)"
   ]
  },
  {
   "cell_type": "code",
   "execution_count": 290,
   "id": "23dc49ef-905f-4a1a-b886-d6d080018ea4",
   "metadata": {},
   "outputs": [
    {
     "data": {
      "text/html": [
       "<div>\n",
       "<style scoped>\n",
       "    .dataframe tbody tr th:only-of-type {\n",
       "        vertical-align: middle;\n",
       "    }\n",
       "\n",
       "    .dataframe tbody tr th {\n",
       "        vertical-align: top;\n",
       "    }\n",
       "\n",
       "    .dataframe thead th {\n",
       "        text-align: right;\n",
       "    }\n",
       "</style>\n",
       "<table border=\"1\" class=\"dataframe\">\n",
       "  <thead>\n",
       "    <tr style=\"text-align: right;\">\n",
       "      <th></th>\n",
       "      <th>neg</th>\n",
       "      <th>neu</th>\n",
       "      <th>pos</th>\n",
       "      <th>textlen</th>\n",
       "    </tr>\n",
       "    <tr>\n",
       "      <th>stars</th>\n",
       "      <th></th>\n",
       "      <th></th>\n",
       "      <th></th>\n",
       "      <th></th>\n",
       "    </tr>\n",
       "  </thead>\n",
       "  <tbody>\n",
       "    <tr>\n",
       "      <th>1.0</th>\n",
       "      <td>0.098</td>\n",
       "      <td>0.821</td>\n",
       "      <td>0.071</td>\n",
       "      <td>541</td>\n",
       "    </tr>\n",
       "    <tr>\n",
       "      <th>2.0</th>\n",
       "      <td>0.072</td>\n",
       "      <td>0.813</td>\n",
       "      <td>0.106</td>\n",
       "      <td>571</td>\n",
       "    </tr>\n",
       "    <tr>\n",
       "      <th>3.0</th>\n",
       "      <td>0.045</td>\n",
       "      <td>0.795</td>\n",
       "      <td>0.149</td>\n",
       "      <td>534</td>\n",
       "    </tr>\n",
       "    <tr>\n",
       "      <th>4.0</th>\n",
       "      <td>0.022</td>\n",
       "      <td>0.762</td>\n",
       "      <td>0.204</td>\n",
       "      <td>463</td>\n",
       "    </tr>\n",
       "    <tr>\n",
       "      <th>5.0</th>\n",
       "      <td>0.010</td>\n",
       "      <td>0.730</td>\n",
       "      <td>0.243</td>\n",
       "      <td>359</td>\n",
       "    </tr>\n",
       "  </tbody>\n",
       "</table>\n",
       "</div>"
      ],
      "text/plain": [
       "         neg    neu    pos  textlen\n",
       "stars                              \n",
       "1.0    0.098  0.821  0.071      541\n",
       "2.0    0.072  0.813  0.106      571\n",
       "3.0    0.045  0.795  0.149      534\n",
       "4.0    0.022  0.762  0.204      463\n",
       "5.0    0.010  0.730  0.243      359"
      ]
     },
     "execution_count": 290,
     "metadata": {},
     "output_type": "execute_result"
    }
   ],
   "source": [
    "median"
   ]
  },
  {
   "cell_type": "code",
   "execution_count": null,
   "id": "5361f2fb-109f-47fb-aaf2-d403d7ee05ee",
   "metadata": {},
   "outputs": [],
   "source": []
  },
  {
   "cell_type": "code",
   "execution_count": 248,
   "id": "6ef87477-4deb-44f5-9cef-6be4fd626e34",
   "metadata": {},
   "outputs": [
    {
     "data": {
      "text/plain": [
       "[0.098, 0.821, 0.071, 541.0]"
      ]
     },
     "execution_count": 248,
     "metadata": {},
     "output_type": "execute_result"
    }
   ],
   "source": [
    "list(median.iloc[0])"
   ]
  },
  {
   "cell_type": "markdown",
   "id": "26d7ba51-bab2-4a3f-be0a-dc53c65fae87",
   "metadata": {},
   "source": [
    "### Problem 3: Review In Business Hours vs Star Rating"
   ]
  },
  {
   "cell_type": "code",
   "execution_count": 329,
   "id": "2ceebb77-18a3-49e9-bd9f-07d1239b0d8c",
   "metadata": {},
   "outputs": [
    {
     "name": "stdout",
     "output_type": "stream",
     "text": [
      "=== Review Data Cleaning Results ===\n",
      "  Null entries dropped:  0 (0.0%)\n",
      "=== Business Data Cleaning Results ===\n",
      "  Null entries dropped:   27341 (17.03%)\n",
      "  Duplicate business_id:  0\n"
     ]
    }
   ],
   "source": [
    "df_rev = clean_review(load_data('yelp_academic_dataset_review.pickle'))\n",
    "df_bus = clean_business(load_data('yelp_academic_dataset_business.pickle'))"
   ]
  },
  {
   "cell_type": "code",
   "execution_count": 353,
   "id": "1d123bbd-de83-42aa-bac9-18cfabe37602",
   "metadata": {},
   "outputs": [],
   "source": [
    "q3 = build_q3_df(df_rev.sample(n=10000), df_bus)"
   ]
  },
  {
   "cell_type": "code",
   "execution_count": 354,
   "id": "17741b0c-fe8a-4a05-9233-c01d22190849",
   "metadata": {},
   "outputs": [
    {
     "data": {
      "text/html": [
       "<div>\n",
       "<style scoped>\n",
       "    .dataframe tbody tr th:only-of-type {\n",
       "        vertical-align: middle;\n",
       "    }\n",
       "\n",
       "    .dataframe tbody tr th {\n",
       "        vertical-align: top;\n",
       "    }\n",
       "\n",
       "    .dataframe thead th {\n",
       "        text-align: right;\n",
       "    }\n",
       "</style>\n",
       "<table border=\"1\" class=\"dataframe\">\n",
       "  <thead>\n",
       "    <tr style=\"text-align: right;\">\n",
       "      <th></th>\n",
       "      <th>business_id</th>\n",
       "      <th>review_id</th>\n",
       "      <th>stars</th>\n",
       "      <th>date</th>\n",
       "      <th>hours</th>\n",
       "      <th>in_hours</th>\n",
       "    </tr>\n",
       "  </thead>\n",
       "  <tbody>\n",
       "    <tr>\n",
       "      <th>0</th>\n",
       "      <td>8xNY-EwTl6j1Wp4XcBZg8Q</td>\n",
       "      <td>y062uM4vCQvGQugfSjm-Hg</td>\n",
       "      <td>5.0</td>\n",
       "      <td>2015-10-26 20:25:14</td>\n",
       "      <td>{'Tuesday': '11:30-20:0', 'Wednesday': '11:30-...</td>\n",
       "      <td>False</td>\n",
       "    </tr>\n",
       "    <tr>\n",
       "      <th>1</th>\n",
       "      <td>JgSGpSMHbGecAXs_o1rE_g</td>\n",
       "      <td>0RtcAyMQH-V4PrayiU58WA</td>\n",
       "      <td>4.0</td>\n",
       "      <td>2018-04-27 22:37:45</td>\n",
       "      <td>{'Monday': '17:0-20:30', 'Tuesday': '17:0-20:3...</td>\n",
       "      <td>False</td>\n",
       "    </tr>\n",
       "    <tr>\n",
       "      <th>2</th>\n",
       "      <td>H8Tbnd2Vt59-nwzt2q4CGQ</td>\n",
       "      <td>73_63N_H8wBxQ0_xi1u6_Q</td>\n",
       "      <td>5.0</td>\n",
       "      <td>2018-03-21 21:41:08</td>\n",
       "      <td>{'Monday': '0:0-0:0', 'Tuesday': '11:0-17:0', ...</td>\n",
       "      <td>False</td>\n",
       "    </tr>\n",
       "    <tr>\n",
       "      <th>3</th>\n",
       "      <td>Mir3sxK7GlPPTWnIdTtlpw</td>\n",
       "      <td>UrE7kT_OhYOWe1AJh2w0Nw</td>\n",
       "      <td>5.0</td>\n",
       "      <td>2017-07-08 22:00:39</td>\n",
       "      <td>{'Monday': '6:30-15:0', 'Tuesday': '6:30-15:0'...</td>\n",
       "      <td>False</td>\n",
       "    </tr>\n",
       "    <tr>\n",
       "      <th>4</th>\n",
       "      <td>EDm3EkIja4aNbCcxC8RKDw</td>\n",
       "      <td>Z8ATgfA6SVLDF2W7ne_GCg</td>\n",
       "      <td>5.0</td>\n",
       "      <td>2018-11-22 16:05:02</td>\n",
       "      <td>{'Monday': '10:30-22:0', 'Tuesday': '10:30-22:...</td>\n",
       "      <td>True</td>\n",
       "    </tr>\n",
       "    <tr>\n",
       "      <th>...</th>\n",
       "      <td>...</td>\n",
       "      <td>...</td>\n",
       "      <td>...</td>\n",
       "      <td>...</td>\n",
       "      <td>...</td>\n",
       "      <td>...</td>\n",
       "    </tr>\n",
       "    <tr>\n",
       "      <th>9335</th>\n",
       "      <td>r6-Ee6u9L3r4r4M9Wd-QbA</td>\n",
       "      <td>5yM9EfrYek_3eXxTjx4LLQ</td>\n",
       "      <td>5.0</td>\n",
       "      <td>2018-07-13 14:06:00</td>\n",
       "      <td>{'Monday': '0:0-0:0', 'Tuesday': '6:0-18:0', '...</td>\n",
       "      <td>True</td>\n",
       "    </tr>\n",
       "    <tr>\n",
       "      <th>9336</th>\n",
       "      <td>jS3AtiXNM97hzZmsVyZpxA</td>\n",
       "      <td>HpQCoY8J2qMQlzbily7iXg</td>\n",
       "      <td>5.0</td>\n",
       "      <td>2016-07-28 20:07:16</td>\n",
       "      <td>{'Monday': '10:0-22:0', 'Tuesday': '10:0-22:0'...</td>\n",
       "      <td>True</td>\n",
       "    </tr>\n",
       "    <tr>\n",
       "      <th>9337</th>\n",
       "      <td>gMuTAZiZRSZeoeVkTtaNrg</td>\n",
       "      <td>FTJV3Nm1Wc7M6m7A33pHyQ</td>\n",
       "      <td>5.0</td>\n",
       "      <td>2017-03-15 15:50:22</td>\n",
       "      <td>{'Monday': '9:0-17:0', 'Tuesday': '9:0-17:0', ...</td>\n",
       "      <td>True</td>\n",
       "    </tr>\n",
       "    <tr>\n",
       "      <th>9338</th>\n",
       "      <td>_-ZQIUptFK13ma5XNoSlTw</td>\n",
       "      <td>Rg0eYnRTX0iDByyH-bQcYA</td>\n",
       "      <td>5.0</td>\n",
       "      <td>2019-04-26 23:46:44</td>\n",
       "      <td>{'Monday': '11:0-22:0', 'Tuesday': '11:0-22:0'...</td>\n",
       "      <td>False</td>\n",
       "    </tr>\n",
       "    <tr>\n",
       "      <th>9339</th>\n",
       "      <td>JA2rHFkLpYfp6BOgm8KaUg</td>\n",
       "      <td>8Cr-jjY7J0C_ONxG44N4PA</td>\n",
       "      <td>1.0</td>\n",
       "      <td>2016-11-30 23:33:59</td>\n",
       "      <td>{'Monday': '11:0-21:30', 'Tuesday': '11:0-21:3...</td>\n",
       "      <td>False</td>\n",
       "    </tr>\n",
       "  </tbody>\n",
       "</table>\n",
       "<p>9340 rows × 6 columns</p>\n",
       "</div>"
      ],
      "text/plain": [
       "                 business_id               review_id  stars  \\\n",
       "0     8xNY-EwTl6j1Wp4XcBZg8Q  y062uM4vCQvGQugfSjm-Hg    5.0   \n",
       "1     JgSGpSMHbGecAXs_o1rE_g  0RtcAyMQH-V4PrayiU58WA    4.0   \n",
       "2     H8Tbnd2Vt59-nwzt2q4CGQ  73_63N_H8wBxQ0_xi1u6_Q    5.0   \n",
       "3     Mir3sxK7GlPPTWnIdTtlpw  UrE7kT_OhYOWe1AJh2w0Nw    5.0   \n",
       "4     EDm3EkIja4aNbCcxC8RKDw  Z8ATgfA6SVLDF2W7ne_GCg    5.0   \n",
       "...                      ...                     ...    ...   \n",
       "9335  r6-Ee6u9L3r4r4M9Wd-QbA  5yM9EfrYek_3eXxTjx4LLQ    5.0   \n",
       "9336  jS3AtiXNM97hzZmsVyZpxA  HpQCoY8J2qMQlzbily7iXg    5.0   \n",
       "9337  gMuTAZiZRSZeoeVkTtaNrg  FTJV3Nm1Wc7M6m7A33pHyQ    5.0   \n",
       "9338  _-ZQIUptFK13ma5XNoSlTw  Rg0eYnRTX0iDByyH-bQcYA    5.0   \n",
       "9339  JA2rHFkLpYfp6BOgm8KaUg  8Cr-jjY7J0C_ONxG44N4PA    1.0   \n",
       "\n",
       "                     date                                              hours  \\\n",
       "0     2015-10-26 20:25:14  {'Tuesday': '11:30-20:0', 'Wednesday': '11:30-...   \n",
       "1     2018-04-27 22:37:45  {'Monday': '17:0-20:30', 'Tuesday': '17:0-20:3...   \n",
       "2     2018-03-21 21:41:08  {'Monday': '0:0-0:0', 'Tuesday': '11:0-17:0', ...   \n",
       "3     2017-07-08 22:00:39  {'Monday': '6:30-15:0', 'Tuesday': '6:30-15:0'...   \n",
       "4     2018-11-22 16:05:02  {'Monday': '10:30-22:0', 'Tuesday': '10:30-22:...   \n",
       "...                   ...                                                ...   \n",
       "9335  2018-07-13 14:06:00  {'Monday': '0:0-0:0', 'Tuesday': '6:0-18:0', '...   \n",
       "9336  2016-07-28 20:07:16  {'Monday': '10:0-22:0', 'Tuesday': '10:0-22:0'...   \n",
       "9337  2017-03-15 15:50:22  {'Monday': '9:0-17:0', 'Tuesday': '9:0-17:0', ...   \n",
       "9338  2019-04-26 23:46:44  {'Monday': '11:0-22:0', 'Tuesday': '11:0-22:0'...   \n",
       "9339  2016-11-30 23:33:59  {'Monday': '11:0-21:30', 'Tuesday': '11:0-21:3...   \n",
       "\n",
       "      in_hours  \n",
       "0        False  \n",
       "1        False  \n",
       "2        False  \n",
       "3        False  \n",
       "4         True  \n",
       "...        ...  \n",
       "9335      True  \n",
       "9336      True  \n",
       "9337      True  \n",
       "9338     False  \n",
       "9339     False  \n",
       "\n",
       "[9340 rows x 6 columns]"
      ]
     },
     "execution_count": 354,
     "metadata": {},
     "output_type": "execute_result"
    }
   ],
   "source": [
    "q3"
   ]
  },
  {
   "cell_type": "code",
   "execution_count": 12,
   "id": "e16b0125-7c62-4e42-9597-0f85c2de1878",
   "metadata": {},
   "outputs": [
    {
     "data": {
      "text/plain": [
       "KstestResult(statistic=0.02268957694633045, pvalue=0.2682889268937475)"
      ]
     },
     "execution_count": 12,
     "metadata": {},
     "output_type": "execute_result"
    }
   ],
   "source": [
    "from scipy.stats import ks_2samp\n",
    "\n",
    "stars_in_hours = q3[q3.in_hours].stars\n",
    "stars_out_hours = q3[~q3.in_hours].stars\n",
    "\n",
    "ks_2samp(stars_in_hours, stars_out_hours)"
   ]
  },
  {
   "cell_type": "markdown",
   "id": "cc23fca7-5bf4-4d5b-a419-01a4aa6670dc",
   "metadata": {},
   "source": [
    "### Problem 4: Business Review Count vs Star Rating"
   ]
  },
  {
   "cell_type": "code",
   "execution_count": 13,
   "id": "cbcc8a94-1eb6-4c31-9193-f64d6df247ca",
   "metadata": {},
   "outputs": [
    {
     "name": "stdout",
     "output_type": "stream",
     "text": [
      "=== Business Data Cleaning Results ===\n",
      "  Null entries dropped:   27341 (17.03%)\n",
      "  Duplicate business_id:  0\n"
     ]
    }
   ],
   "source": [
    "df = clean_business(load_data('yelp_academic_dataset_business.pickle'))"
   ]
  },
  {
   "cell_type": "code",
   "execution_count": 14,
   "id": "81e2fd88-9cbb-4c83-8f8e-54e0dfc72e57",
   "metadata": {},
   "outputs": [
    {
     "name": "stdout",
     "output_type": "stream",
     "text": [
      "=== Business Review Count vs Star Rating ===\n",
      "  Pearson  : (0.02158667069491236, 3.25966942433227e-15)\n",
      "  Spearman : SpearmanrResult(correlation=-0.08159914204087725, pvalue=1.3622892060012781e-195)\n"
     ]
    }
   ],
   "source": [
    "from scipy.stats import pearsonr, spearmanr\n",
    "\n",
    "review_pearson = pearsonr(df.review_count, df.stars)\n",
    "review_spearman = spearmanr(df.review_count, df.stars)\n",
    "\n",
    "print('=== Business Review Count vs Star Rating ===')\n",
    "print('  Pearson  : {0}'.format(review_pearson))\n",
    "print('  Spearman : {0}'.format(review_spearman))"
   ]
  },
  {
   "cell_type": "code",
   "execution_count": 335,
   "id": "4ce34af2-f23d-437d-8ee9-631934431a3b",
   "metadata": {},
   "outputs": [],
   "source": [
    "samp = df_bus[:10]"
   ]
  },
  {
   "cell_type": "code",
   "execution_count": 349,
   "id": "1ced5e22-3038-446a-ace6-5bf68f8b5e97",
   "metadata": {},
   "outputs": [],
   "source": [
    "samp.loc[:, 'foo'] = samp.apply(lambda s: s.review_count, axis=1)"
   ]
  },
  {
   "cell_type": "code",
   "execution_count": 350,
   "id": "5c0e34cf-e4cd-4d0b-a5c9-0744096e7855",
   "metadata": {},
   "outputs": [
    {
     "data": {
      "text/html": [
       "<div>\n",
       "<style scoped>\n",
       "    .dataframe tbody tr th:only-of-type {\n",
       "        vertical-align: middle;\n",
       "    }\n",
       "\n",
       "    .dataframe tbody tr th {\n",
       "        vertical-align: top;\n",
       "    }\n",
       "\n",
       "    .dataframe thead th {\n",
       "        text-align: right;\n",
       "    }\n",
       "</style>\n",
       "<table border=\"1\" class=\"dataframe\">\n",
       "  <thead>\n",
       "    <tr style=\"text-align: right;\">\n",
       "      <th></th>\n",
       "      <th>business_id</th>\n",
       "      <th>name</th>\n",
       "      <th>address</th>\n",
       "      <th>city</th>\n",
       "      <th>state</th>\n",
       "      <th>postal_code</th>\n",
       "      <th>latitude</th>\n",
       "      <th>longitude</th>\n",
       "      <th>stars</th>\n",
       "      <th>review_count</th>\n",
       "      <th>is_open</th>\n",
       "      <th>attributes</th>\n",
       "      <th>categories</th>\n",
       "      <th>hours</th>\n",
       "      <th>foo</th>\n",
       "    </tr>\n",
       "  </thead>\n",
       "  <tbody>\n",
       "    <tr>\n",
       "      <th>0</th>\n",
       "      <td>6iYb2HFDywm3zjuRg0shjw</td>\n",
       "      <td>Oskar Blues Taproom</td>\n",
       "      <td>921 Pearl St</td>\n",
       "      <td>Boulder</td>\n",
       "      <td>CO</td>\n",
       "      <td>80302</td>\n",
       "      <td>40.017544</td>\n",
       "      <td>-105.283348</td>\n",
       "      <td>4.0</td>\n",
       "      <td>86</td>\n",
       "      <td>1</td>\n",
       "      <td>{'RestaurantsTableService': 'True', 'WiFi': 'u...</td>\n",
       "      <td>Gastropubs, Food, Beer Gardens, Restaurants, B...</td>\n",
       "      <td>{'Monday': '11:0-23:0', 'Tuesday': '11:0-23:0'...</td>\n",
       "      <td>86</td>\n",
       "    </tr>\n",
       "    <tr>\n",
       "      <th>1</th>\n",
       "      <td>tCbdrRPZA0oiIYSmHG3J0w</td>\n",
       "      <td>Flying Elephants at PDX</td>\n",
       "      <td>7000 NE Airport Way</td>\n",
       "      <td>Portland</td>\n",
       "      <td>OR</td>\n",
       "      <td>97218</td>\n",
       "      <td>45.588906</td>\n",
       "      <td>-122.593331</td>\n",
       "      <td>4.0</td>\n",
       "      <td>126</td>\n",
       "      <td>1</td>\n",
       "      <td>{'RestaurantsTakeOut': 'True', 'RestaurantsAtt...</td>\n",
       "      <td>Salad, Soup, Sandwiches, Delis, Restaurants, C...</td>\n",
       "      <td>{'Monday': '5:0-18:0', 'Tuesday': '5:0-17:0', ...</td>\n",
       "      <td>126</td>\n",
       "    </tr>\n",
       "    <tr>\n",
       "      <th>2</th>\n",
       "      <td>bvN78flM8NLprQ1a1y5dRg</td>\n",
       "      <td>The Reclaimory</td>\n",
       "      <td>4720 Hawthorne Ave</td>\n",
       "      <td>Portland</td>\n",
       "      <td>OR</td>\n",
       "      <td>97214</td>\n",
       "      <td>45.511907</td>\n",
       "      <td>-122.613693</td>\n",
       "      <td>4.5</td>\n",
       "      <td>13</td>\n",
       "      <td>1</td>\n",
       "      <td>{'BusinessAcceptsCreditCards': 'True', 'Restau...</td>\n",
       "      <td>Antiques, Fashion, Used, Vintage &amp; Consignment...</td>\n",
       "      <td>{'Thursday': '11:0-18:0', 'Friday': '11:0-18:0...</td>\n",
       "      <td>13</td>\n",
       "    </tr>\n",
       "    <tr>\n",
       "      <th>4</th>\n",
       "      <td>PE9uqAjdw0E4-8mjGl3wVA</td>\n",
       "      <td>Crossfit Terminus</td>\n",
       "      <td>1046 Memorial Dr SE</td>\n",
       "      <td>Atlanta</td>\n",
       "      <td>GA</td>\n",
       "      <td>30316</td>\n",
       "      <td>33.747027</td>\n",
       "      <td>-84.353424</td>\n",
       "      <td>4.0</td>\n",
       "      <td>14</td>\n",
       "      <td>1</td>\n",
       "      <td>{'GoodForKids': 'False', 'BusinessParking': '{...</td>\n",
       "      <td>Gyms, Active Life, Interval Training Gyms, Fit...</td>\n",
       "      <td>{'Monday': '16:0-19:0', 'Tuesday': '16:0-19:0'...</td>\n",
       "      <td>14</td>\n",
       "    </tr>\n",
       "    <tr>\n",
       "      <th>5</th>\n",
       "      <td>D4JtQNTI4X3KcbzacDJsMw</td>\n",
       "      <td>Bob Likes Thai Food</td>\n",
       "      <td>3755 Main St</td>\n",
       "      <td>Vancouver</td>\n",
       "      <td>BC</td>\n",
       "      <td>V5V</td>\n",
       "      <td>49.251342</td>\n",
       "      <td>-123.101333</td>\n",
       "      <td>3.5</td>\n",
       "      <td>169</td>\n",
       "      <td>1</td>\n",
       "      <td>{'GoodForKids': 'True', 'Alcohol': 'u'none'', ...</td>\n",
       "      <td>Restaurants, Thai</td>\n",
       "      <td>{'Monday': '17:0-21:0', 'Tuesday': '17:0-21:0'...</td>\n",
       "      <td>169</td>\n",
       "    </tr>\n",
       "    <tr>\n",
       "      <th>6</th>\n",
       "      <td>t35jsh9YnMtttm69UCp7gw</td>\n",
       "      <td>Escott Orthodontics</td>\n",
       "      <td>2511 Edgewater Dr</td>\n",
       "      <td>Orlando</td>\n",
       "      <td>FL</td>\n",
       "      <td>32804</td>\n",
       "      <td>28.573998</td>\n",
       "      <td>-81.389284</td>\n",
       "      <td>4.5</td>\n",
       "      <td>7</td>\n",
       "      <td>1</td>\n",
       "      <td>{'AcceptsInsurance': 'True', 'BusinessAcceptsC...</td>\n",
       "      <td>Dentists, Health &amp; Medical, Orthodontists</td>\n",
       "      <td>{'Monday': '0:0-0:0', 'Tuesday': '8:0-17:30', ...</td>\n",
       "      <td>7</td>\n",
       "    </tr>\n",
       "    <tr>\n",
       "      <th>7</th>\n",
       "      <td>jFYIsSb7r1QeESVUnXPHBw</td>\n",
       "      <td>Boxwood Biscuit</td>\n",
       "      <td>740 S High St</td>\n",
       "      <td>Columbus</td>\n",
       "      <td>OH</td>\n",
       "      <td>43206</td>\n",
       "      <td>39.947007</td>\n",
       "      <td>-82.997471</td>\n",
       "      <td>4.5</td>\n",
       "      <td>11</td>\n",
       "      <td>1</td>\n",
       "      <td>None</td>\n",
       "      <td>Breakfast &amp; Brunch, Restaurants</td>\n",
       "      <td>{'Saturday': '8:0-14:0', 'Sunday': '8:0-14:0'}</td>\n",
       "      <td>11</td>\n",
       "    </tr>\n",
       "    <tr>\n",
       "      <th>8</th>\n",
       "      <td>N3_Gs3DnX4k9SgpwJxdEfw</td>\n",
       "      <td>Lane Wells Jewelry Repair</td>\n",
       "      <td>7801 N Lamar Blvd, Ste A140</td>\n",
       "      <td>Austin</td>\n",
       "      <td>TX</td>\n",
       "      <td>78752</td>\n",
       "      <td>30.346169</td>\n",
       "      <td>-97.711458</td>\n",
       "      <td>5.0</td>\n",
       "      <td>30</td>\n",
       "      <td>1</td>\n",
       "      <td>{'RestaurantsPriceRange2': '1', 'ByAppointment...</td>\n",
       "      <td>Shopping, Jewelry Repair, Appraisal Services, ...</td>\n",
       "      <td>{'Monday': '12:15-17:0', 'Tuesday': '12:15-17:...</td>\n",
       "      <td>30</td>\n",
       "    </tr>\n",
       "    <tr>\n",
       "      <th>9</th>\n",
       "      <td>tXvdYGvlEceDljN8gt2_3Q</td>\n",
       "      <td>Capital City Barber Shop</td>\n",
       "      <td>615 W Slaughter Ln, Ste 113</td>\n",
       "      <td>Austin</td>\n",
       "      <td>TX</td>\n",
       "      <td>78748</td>\n",
       "      <td>30.172706</td>\n",
       "      <td>-97.799920</td>\n",
       "      <td>4.0</td>\n",
       "      <td>5</td>\n",
       "      <td>0</td>\n",
       "      <td>{'BusinessAcceptsCreditCards': 'False', 'Resta...</td>\n",
       "      <td>Barbers, Beauty &amp; Spas</td>\n",
       "      <td>{'Monday': '9:0-17:0', 'Tuesday': '9:0-19:0', ...</td>\n",
       "      <td>5</td>\n",
       "    </tr>\n",
       "    <tr>\n",
       "      <th>10</th>\n",
       "      <td>rYs_1pNB_RMtn5WQh55QDA</td>\n",
       "      <td>Chautauqua General Store</td>\n",
       "      <td>100 Clematis Dr</td>\n",
       "      <td>Boulder</td>\n",
       "      <td>CO</td>\n",
       "      <td>80302</td>\n",
       "      <td>39.998449</td>\n",
       "      <td>-105.281006</td>\n",
       "      <td>3.5</td>\n",
       "      <td>5</td>\n",
       "      <td>1</td>\n",
       "      <td>{'BikeParking': 'True', 'RestaurantsTakeOut': ...</td>\n",
       "      <td>Food, Shopping, Convenience Stores, Souvenir S...</td>\n",
       "      <td>{'Monday': '8:0-20:0', 'Tuesday': '8:0-20:0', ...</td>\n",
       "      <td>5</td>\n",
       "    </tr>\n",
       "  </tbody>\n",
       "</table>\n",
       "</div>"
      ],
      "text/plain": [
       "               business_id                       name  \\\n",
       "0   6iYb2HFDywm3zjuRg0shjw        Oskar Blues Taproom   \n",
       "1   tCbdrRPZA0oiIYSmHG3J0w    Flying Elephants at PDX   \n",
       "2   bvN78flM8NLprQ1a1y5dRg             The Reclaimory   \n",
       "4   PE9uqAjdw0E4-8mjGl3wVA          Crossfit Terminus   \n",
       "5   D4JtQNTI4X3KcbzacDJsMw        Bob Likes Thai Food   \n",
       "6   t35jsh9YnMtttm69UCp7gw        Escott Orthodontics   \n",
       "7   jFYIsSb7r1QeESVUnXPHBw            Boxwood Biscuit   \n",
       "8   N3_Gs3DnX4k9SgpwJxdEfw  Lane Wells Jewelry Repair   \n",
       "9   tXvdYGvlEceDljN8gt2_3Q   Capital City Barber Shop   \n",
       "10  rYs_1pNB_RMtn5WQh55QDA   Chautauqua General Store   \n",
       "\n",
       "                        address       city state postal_code   latitude  \\\n",
       "0                  921 Pearl St    Boulder    CO       80302  40.017544   \n",
       "1           7000 NE Airport Way   Portland    OR       97218  45.588906   \n",
       "2            4720 Hawthorne Ave   Portland    OR       97214  45.511907   \n",
       "4           1046 Memorial Dr SE    Atlanta    GA       30316  33.747027   \n",
       "5                  3755 Main St  Vancouver    BC         V5V  49.251342   \n",
       "6             2511 Edgewater Dr    Orlando    FL       32804  28.573998   \n",
       "7                 740 S High St   Columbus    OH       43206  39.947007   \n",
       "8   7801 N Lamar Blvd, Ste A140     Austin    TX       78752  30.346169   \n",
       "9   615 W Slaughter Ln, Ste 113     Austin    TX       78748  30.172706   \n",
       "10              100 Clematis Dr    Boulder    CO       80302  39.998449   \n",
       "\n",
       "     longitude  stars  review_count  is_open  \\\n",
       "0  -105.283348    4.0            86        1   \n",
       "1  -122.593331    4.0           126        1   \n",
       "2  -122.613693    4.5            13        1   \n",
       "4   -84.353424    4.0            14        1   \n",
       "5  -123.101333    3.5           169        1   \n",
       "6   -81.389284    4.5             7        1   \n",
       "7   -82.997471    4.5            11        1   \n",
       "8   -97.711458    5.0            30        1   \n",
       "9   -97.799920    4.0             5        0   \n",
       "10 -105.281006    3.5             5        1   \n",
       "\n",
       "                                           attributes  \\\n",
       "0   {'RestaurantsTableService': 'True', 'WiFi': 'u...   \n",
       "1   {'RestaurantsTakeOut': 'True', 'RestaurantsAtt...   \n",
       "2   {'BusinessAcceptsCreditCards': 'True', 'Restau...   \n",
       "4   {'GoodForKids': 'False', 'BusinessParking': '{...   \n",
       "5   {'GoodForKids': 'True', 'Alcohol': 'u'none'', ...   \n",
       "6   {'AcceptsInsurance': 'True', 'BusinessAcceptsC...   \n",
       "7                                                None   \n",
       "8   {'RestaurantsPriceRange2': '1', 'ByAppointment...   \n",
       "9   {'BusinessAcceptsCreditCards': 'False', 'Resta...   \n",
       "10  {'BikeParking': 'True', 'RestaurantsTakeOut': ...   \n",
       "\n",
       "                                           categories  \\\n",
       "0   Gastropubs, Food, Beer Gardens, Restaurants, B...   \n",
       "1   Salad, Soup, Sandwiches, Delis, Restaurants, C...   \n",
       "2   Antiques, Fashion, Used, Vintage & Consignment...   \n",
       "4   Gyms, Active Life, Interval Training Gyms, Fit...   \n",
       "5                                   Restaurants, Thai   \n",
       "6           Dentists, Health & Medical, Orthodontists   \n",
       "7                     Breakfast & Brunch, Restaurants   \n",
       "8   Shopping, Jewelry Repair, Appraisal Services, ...   \n",
       "9                              Barbers, Beauty & Spas   \n",
       "10  Food, Shopping, Convenience Stores, Souvenir S...   \n",
       "\n",
       "                                                hours  foo  \n",
       "0   {'Monday': '11:0-23:0', 'Tuesday': '11:0-23:0'...   86  \n",
       "1   {'Monday': '5:0-18:0', 'Tuesday': '5:0-17:0', ...  126  \n",
       "2   {'Thursday': '11:0-18:0', 'Friday': '11:0-18:0...   13  \n",
       "4   {'Monday': '16:0-19:0', 'Tuesday': '16:0-19:0'...   14  \n",
       "5   {'Monday': '17:0-21:0', 'Tuesday': '17:0-21:0'...  169  \n",
       "6   {'Monday': '0:0-0:0', 'Tuesday': '8:0-17:30', ...    7  \n",
       "7      {'Saturday': '8:0-14:0', 'Sunday': '8:0-14:0'}   11  \n",
       "8   {'Monday': '12:15-17:0', 'Tuesday': '12:15-17:...   30  \n",
       "9   {'Monday': '9:0-17:0', 'Tuesday': '9:0-19:0', ...    5  \n",
       "10  {'Monday': '8:0-20:0', 'Tuesday': '8:0-20:0', ...    5  "
      ]
     },
     "execution_count": 350,
     "metadata": {},
     "output_type": "execute_result"
    }
   ],
   "source": [
    "samp"
   ]
  },
  {
   "cell_type": "code",
   "execution_count": null,
   "id": "b2cb1a71-02d7-4982-8f2d-aea847b4a490",
   "metadata": {},
   "outputs": [],
   "source": []
  }
 ],
 "metadata": {
  "kernelspec": {
   "display_name": "Python 3",
   "language": "python",
   "name": "python3"
  },
  "language_info": {
   "codemirror_mode": {
    "name": "ipython",
    "version": 3
   },
   "file_extension": ".py",
   "mimetype": "text/x-python",
   "name": "python",
   "nbconvert_exporter": "python",
   "pygments_lexer": "ipython3",
   "version": "3.8.10"
  }
 },
 "nbformat": 4,
 "nbformat_minor": 5
}
